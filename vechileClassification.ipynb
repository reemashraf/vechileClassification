{
  "cells": [
    {
      "cell_type": "code",
      "execution_count": 1,
      "metadata": {
        "colab": {
          "base_uri": "https://localhost:8080/"
        },
        "id": "NiGWLISayTXZ",
        "outputId": "70606ea0-c28c-43d8-f8f2-0516a98eca83"
      },
      "outputs": [
        {
          "name": "stdout",
          "output_type": "stream",
          "text": [
            "Cloning into 'vechileClassification'...\n",
            "remote: Enumerating objects: 2539, done.\u001b[K\n",
            "remote: Counting objects: 100% (3/3), done.\u001b[K\n",
            "remote: Compressing objects: 100% (2/2), done.\u001b[K\n",
            "remote: Total 2539 (delta 0), reused 3 (delta 0), pack-reused 2536\u001b[K\n",
            "Receiving objects: 100% (2539/2539), 843.42 MiB | 26.94 MiB/s, done.\n",
            "Checking out files: 100% (2532/2532), done.\n"
          ]
        }
      ],
      "source": [
        "!git clone https://github.com/reemashraf/vechileClassification.git"
      ]
    },
    {
      "cell_type": "code",
      "execution_count": null,
      "metadata": {
        "id": "ScJOXewV1ERi"
      },
      "outputs": [],
      "source": []
    },
    {
      "cell_type": "markdown",
      "metadata": {
        "id": "PysgD59C1Eqf"
      },
      "source": [
        "## install all required libraries "
      ]
    },
    {
      "cell_type": "code",
      "execution_count": null,
      "metadata": {
        "id": "whl1lXD4y12A"
      },
      "outputs": [],
      "source": [
        "!pip install tensorflow\n",
        "!pip install opencv-python\n",
        "!pip install keras.models\n",
        "!pip install keras.layers\n",
        "!pip install sklearn\n",
        "!pip install matplotlib\n",
        "!pip install warnings\n",
        "!pip install os"
      ]
    },
    {
      "cell_type": "markdown",
      "metadata": {
        "id": "tBfOfBI00dNd"
      },
      "source": [
        "## importing used libraries "
      ]
    },
    {
      "cell_type": "code",
      "execution_count": 2,
      "metadata": {
        "_kg_hide-input": false,
        "_uuid": "1b3a945f5604afad9bf9fc56b4fc0c0b199f0c1f",
        "id": "60GBbUAjdKri",
        "trusted": true
      },
      "outputs": [],
      "source": [
        "import os, cv2\n",
        "import numpy as np\n",
        "import tensorflow as tf\n",
        "from tensorflow.python import keras\n",
        "\n",
        "from keras.models import Sequential, Model\n",
        "from keras.layers import Dense, Dropout, Flatten, AvgPool2D\n",
        "from keras.layers.convolutional import Conv2D, MaxPooling2D\n",
        "from tensorflow.keras.optimizers import SGD\n",
        "from keras.layers import BatchNormalization\n",
        "from keras.preprocessing.image import ImageDataGenerator\n",
        "from keras.preprocessing.image import img_to_array, array_to_img, load_img\n",
        "from keras.utils import np_utils\n",
        "from keras.callbacks import ModelCheckpoint\n",
        "from keras.callbacks import EarlyStopping\n",
        "\n",
        "from sklearn.model_selection import train_test_split\n",
        "from sklearn.preprocessing import LabelEncoder\n",
        "from sklearn.utils import shuffle\n",
        "from keras import regularizers\n",
        "import matplotlib.image as mpimg\n",
        "import matplotlib.pyplot as plt\n",
        "import matplotlib\n",
        "%matplotlib inline\n",
        "\n",
        "import warnings\n",
        "warnings.filterwarnings('ignore')"
      ]
    },
    {
      "cell_type": "code",
      "execution_count": 3,
      "metadata": {
        "id": "Q3bW_bLTreA6"
      },
      "outputs": [],
      "source": [
        "# paths varibles\n",
        "data_dir = '/content/vechileClassification/dataset/'\n",
        "output_dir = '/content/outputImages'\n",
        "inputVideoPath = '/content/demo.mkv'\n",
        "testImagesPath =  output_dir+'/testImages/'"
      ]
    },
    {
      "cell_type": "markdown",
      "metadata": {
        "id": "u-kkTyOZ1R_H"
      },
      "source": [
        "## Reading of Data"
      ]
    },
    {
      "cell_type": "markdown",
      "metadata": {
        "_uuid": "55c8028a450928780c5d51eb69b6729438d3c06a",
        "id": "sQ5Mf6VIdKrr"
      },
      "source": [
        "There is 0 csv file in the current version of the dataset:\n"
      ]
    },
    {
      "cell_type": "code",
      "execution_count": 4,
      "metadata": {
        "_kg_hide-input": false,
        "_uuid": "5313dbad2022a8f6205bd24ef23fda90280c15d1",
        "id": "IGvohp5edKru",
        "trusted": true
      },
      "outputs": [],
      "source": [
        "def labelingData():\n",
        "  '''\n",
        "  description: read the dataset from folder and label them.\n",
        "  output : images -> numpy array of read dataset \n",
        "          car_types -> numpy array that contains each image label\n",
        "       \n",
        "  \n",
        "  '''\n",
        "  images = []\n",
        "  car_types = []\n",
        "  for car_type in [\"car\",\"truck\" ,\"bus\"]:\n",
        "      car_dir = data_dir + car_type\n",
        "      car_files = [car_dir + '/' + filename for filename in os.listdir(car_dir)]\n",
        "      for filename in car_files:\n",
        "          if filename.endswith('jpg'):\n",
        "              try:\n",
        "                  images.append(cv2.resize(cv2.imread(filename), (224,224), interpolation=cv2.INTER_CUBIC))\n",
        "                  car_types.append(car_type)\n",
        "              except Exception as e:\n",
        "                  print(str(e))\n",
        "              \n",
        "              \n",
        "  images = np.array(images)\n",
        "  car_types = np.array(car_types)\n",
        "  return images , car_types\n",
        "\n",
        "\n",
        "def labelEncoding(car_types):\n",
        "  '''\n",
        "  description: perform one hot encoding to labeled array\n",
        "  input : car_types -> numpy array that contains each image label\n",
        "  output: car_types_encoded_onehot -> numpy array that contain one hot encoding ot car_types\n",
        "  \n",
        "  '''\n",
        "  le = LabelEncoder()\n",
        "  car_types_encoded = le.fit_transform(car_types)\n",
        "  car_types_encoded_onehot = np_utils.to_categorical(car_types_encoded)\n",
        "  return car_types_encoded_onehot"
      ]
    },
    {
      "cell_type": "code",
      "execution_count": 5,
      "metadata": {
        "_kg_hide-input": true,
        "_uuid": "c6f6fa82b7e51b343fcb2383fe4a4cbc156d761a",
        "id": "JjLhLkEGdKr1",
        "trusted": true
      },
      "outputs": [],
      "source": [
        "def modelCreation():\n",
        "    model = Sequential()\n",
        "\n",
        "    model.add(Conv2D(32, (3, 3),input_shape=(224, 224, 3),strides = (1,1),  padding = 'same',kernel_initializer='he_normal', activation='relu'))\n",
        "    model.add(BatchNormalization())\n",
        "    model.add(AvgPool2D(pool_size=(2, 2)))\n",
        "\n",
        "    model.add(Conv2D(32, (3, 3),strides = (1,1),  padding = 'same', activation='relu'))\n",
        "    model.add(MaxPooling2D(pool_size=(2, 2)))\n",
        "\n",
        "    model.add(Conv2D(32, (3, 3),strides = (1,1),  padding = 'same', activation='relu',kernel_regularizer=regularizers.l2(0.01)))\n",
        "    model.add(MaxPooling2D(pool_size=(2, 2)))\n",
        "\n",
        "    model.add(Conv2D(32, (3, 3),strides = (1,1),  padding = 'same', activation='relu'))\n",
        "    model.add(MaxPooling2D(pool_size=(2, 2)))\n",
        "\n",
        "    model.add(Flatten())\n",
        "    model.add(Dense(units=128, activation='relu', kernel_initializer='normal'))\n",
        "    model.add(Dense(units=3, activation='sigmoid', kernel_initializer='normal'))\n",
        "    model.compile(optimizer='adam',loss='categorical_crossentropy',metrics=['accuracy'])\n",
        "    model.summary()\n",
        "    return model\n"
      ]
    },
    {
      "cell_type": "code",
      "execution_count": null,
      "metadata": {
        "id": "PGkmnXZBA-ZS"
      },
      "outputs": [],
      "source": []
    },
    {
      "cell_type": "code",
      "execution_count": 6,
      "metadata": {
        "_kg_hide-input": true,
        "_uuid": "ad411a56f8973d5cbaaad5874f106df41e8ee1e2",
        "id": "LyZhD0awdKr6",
        "trusted": true
      },
      "outputs": [],
      "source": [
        "def dataSplit(images , car_types_encoded_onehot):\n",
        "  '''\n",
        "  description :  split the dataset into train and validation with 80:20 and augment and normalize the data \n",
        "  input : images , car_types_encoded_onehot\n",
        "  output : x_train, x_val, y_train, y_val\n",
        "\n",
        "  '''\n",
        "  # splitting of data to train and validation 80:20 \n",
        "  x_train, x_val, y_train, y_val = train_test_split(images, car_types_encoded_onehot, test_size=0.2, random_state=0, stratify=car_types_encoded_onehot)\n",
        "  # normalization of images \n",
        "  x_train = x_train / 255\n",
        "  x_val = x_val / 255\n",
        "\n",
        "  # set train Generator which is resonsible for normalization and augmentation of data \n",
        "  datagen = ImageDataGenerator(rotation_range=30,width_shift_range=0.2,height_shift_range=0.2,horizontal_flip=True)\n",
        "  datagen.fit(x_train)\n",
        "  return x_train, x_val, y_train, y_val , datagen\n"
      ]
    },
    {
      "cell_type": "code",
      "execution_count": 7,
      "metadata": {
        "_uuid": "04e305be274243dbda1c28eebca9438abd3753e5",
        "id": "6_qhRh8KdKr9",
        "trusted": true
      },
      "outputs": [],
      "source": [
        "def train(model , datagen):\n",
        "    # trainning process\n",
        "    nb_epoch = 100\n",
        "    batch_size = 25\n",
        "\n",
        "    fitted_model = model.fit_generator(datagen.flow(x_train, y_train, batch_size=batch_size),\n",
        "                        steps_per_epoch = len(x_train)//batch_size,\n",
        "                        epochs=nb_epoch,\n",
        "                        validation_data = (x_val, y_val),\n",
        "                        )\n",
        "    return model , fitted_model"
      ]
    },
    {
      "cell_type": "markdown",
      "metadata": {
        "id": "_mTRPPSUw5Au"
      },
      "source": [
        "### Visualization of results "
      ]
    },
    {
      "cell_type": "code",
      "execution_count": 8,
      "metadata": {
        "_uuid": "1ab6e92bc006d624ae0a6a9d7c1e1e5dc9e7506d",
        "id": "q5cGsx65dKr-",
        "trusted": true
      },
      "outputs": [],
      "source": [
        "def accuracyPlot(fitted_model):\n",
        "    # visualization of train and validation accuracy \n",
        "    plt.plot(fitted_model.history['accuracy'])\n",
        "    plt.plot(fitted_model.history['val_accuracy'])\n",
        "    plt.title('model accuracy')\n",
        "    plt.ylabel('accuracy')\n",
        "    plt.xlabel('epoch')\n",
        "    plt.legend(['train', 'validation'], loc='upper left')\n",
        "    plt.show()\n",
        "    "
      ]
    },
    {
      "cell_type": "code",
      "execution_count": 9,
      "metadata": {
        "_uuid": "f2746926ca640c7bc86df215e2497f9d343afc3a",
        "id": "ZO3AowewdKsA",
        "trusted": true
      },
      "outputs": [],
      "source": [
        "def errorPlot(fitted_model):\n",
        "    # visualization of error decay across training process \n",
        "    plt.figure()\n",
        "    plt.gcf().clear()\n",
        "    plt.plot(fitted_model.history['loss'])\n",
        "    plt.plot(fitted_model.history['val_loss'])\n",
        "    plt.title('model loss')\n",
        "    plt.ylabel('loss')\n",
        "    plt.xlabel('epoch')\n",
        "    plt.legend(['train', 'test'], loc='upper left')\n",
        "\n",
        "    plt.show()"
      ]
    },
    {
      "cell_type": "code",
      "execution_count": 18,
      "metadata": {
        "_uuid": "a80fe6d31025df1dca24ed72c606e4978fc605d1",
        "colab": {
          "base_uri": "https://localhost:8080/"
        },
        "id": "ML7CmZRidKsB",
        "outputId": "c5e3f0fa-9703-42f5-d4e6-27e22ad798ca",
        "trusted": true
      },
      "outputs": [
        {
          "name": "stdout",
          "output_type": "stream",
          "text": [
            "Creating.../content/outputImages/testImages/0.jpg\n",
            "Creating.../content/outputImages/testImages/1.jpg\n",
            "Creating.../content/outputImages/testImages/2.jpg\n",
            "Creating.../content/outputImages/testImages/3.jpg\n",
            "Creating.../content/outputImages/testImages/4.jpg\n",
            "Creating.../content/outputImages/testImages/5.jpg\n",
            "Creating.../content/outputImages/testImages/6.jpg\n",
            "Creating.../content/outputImages/testImages/7.jpg\n",
            "Creating.../content/outputImages/testImages/8.jpg\n",
            "Creating.../content/outputImages/testImages/9.jpg\n",
            "Creating.../content/outputImages/testImages/10.jpg\n",
            "Creating.../content/outputImages/testImages/11.jpg\n",
            "Creating.../content/outputImages/testImages/12.jpg\n",
            "Creating.../content/outputImages/testImages/13.jpg\n",
            "Creating.../content/outputImages/testImages/14.jpg\n",
            "Creating.../content/outputImages/testImages/15.jpg\n",
            "Creating.../content/outputImages/testImages/16.jpg\n",
            "Creating.../content/outputImages/testImages/17.jpg\n",
            "Creating.../content/outputImages/testImages/18.jpg\n",
            "Creating.../content/outputImages/testImages/19.jpg\n",
            "Creating.../content/outputImages/testImages/20.jpg\n",
            "Creating.../content/outputImages/testImages/21.jpg\n",
            "Creating.../content/outputImages/testImages/22.jpg\n",
            "Creating.../content/outputImages/testImages/23.jpg\n",
            "Creating.../content/outputImages/testImages/24.jpg\n",
            "Creating.../content/outputImages/testImages/25.jpg\n",
            "Creating.../content/outputImages/testImages/26.jpg\n",
            "Creating.../content/outputImages/testImages/27.jpg\n",
            "Creating.../content/outputImages/testImages/28.jpg\n",
            "Creating.../content/outputImages/testImages/29.jpg\n"
          ]
        }
      ],
      "source": [
        "# getting Frames from videos content\n",
        "!python3 /videoToImage.py '/content/demo.mkv' '/content/outputImages/testImages'"
      ]
    },
    {
      "cell_type": "code",
      "execution_count": null,
      "metadata": {
        "id": "m7R1v7nL-X16"
      },
      "outputs": [],
      "source": []
    },
    {
      "cell_type": "code",
      "execution_count": 10,
      "metadata": {
        "id": "XxHoLZdK58x1"
      },
      "outputs": [],
      "source": [
        "def predict(model):\n",
        "  '''\n",
        "  description: read each frame and apply prediction of it \n",
        "  input :  model \n",
        "  output : predicationClasses: list of tuples that holes prediction and images names\n",
        "  '''\n",
        "  classes = []\n",
        "  imagesName = []\n",
        "  for f in os.listdir(testImagesPath):\n",
        "      imagePath = os.path.join(testImagesPath, f)\n",
        "      img = cv2.imread(imagePath)\n",
        "      img = cv2.resize(img,(224,224))\n",
        "      img = np.reshape(img,[1,224,224,3])\n",
        "      imagesName.append(f)\n",
        "      classes.append((np.argmax(model.predict(img), axis = -1))[0])\n",
        "  predicationClasses = list(zip(imagesName , classes))\n",
        "  # sorting frames as video streams as they are shuffled according to string concatincations \n",
        "  predicationClasses.sort(key=lambda x:int(x[0].split(\".\")[0]))\n",
        "  return predicationClasses\n"
      ]
    },
    {
      "cell_type": "code",
      "execution_count": 28,
      "metadata": {
        "id": "55_2IQtrfM_q"
      },
      "outputs": [],
      "source": []
    },
    {
      "cell_type": "code",
      "execution_count": 24,
      "metadata": {
        "id": "xBjIE7JcWaf4"
      },
      "outputs": [],
      "source": [
        "def foldersCreation():\n",
        "  '''\n",
        "  description: check the existance of required folders and create them of needed \n",
        "  '''\n",
        "  if not os.path.exists(output_dir):\n",
        "    os.makedirs(output_dir)\n",
        "  \n",
        "  if not os.path.exists(output_dir +'/car'):\n",
        "    os.makedirs(output_dir +'/car')\n",
        "  \n",
        "  if not os.path.exists(output_dir +'/truck'):\n",
        "    os.makedirs(output_dir +'/truck')\n",
        "  \n",
        "  if not os.path.exists(output_dir +'/bus'):\n",
        "    os.makedirs(output_dir +'/bus')\n",
        " \n",
        "def savingFrames(predicationClasses):\n",
        "  '''\n",
        "  description : saving prediction of frames in their crossponding folders \n",
        "  input: predictionClasses -> list of tuples that contain prediction and name of image\n",
        "\n",
        "  '''\n",
        "  for i in range(len(predicationClasses)):\n",
        "    # check wheather current frame is like the following one or not \n",
        "    if i != len(predicationClasses)-1 :\n",
        "      j = i+1\n",
        "      if predicationClasses[i][1] == predicationClasses[j][1]:\n",
        "        continue\n",
        "    imgPath = os.path.join(testImagesPath , predicationClasses[i][0])\n",
        "    img = cv2.imread(imgPath, 1)\n",
        "\n",
        "    if predicationClasses[i][1] == 0 : # bus Folder \n",
        "      folderName = '/bus'\n",
        "\n",
        "    elif predicationClasses[i][1] == 1:  # car Folder\n",
        "      folderName = '/car'\n",
        "\n",
        "    else:  # truck Folder\n",
        "      folderName = '/truck'\n",
        "    # saving the images to folder \n",
        "    cv2.imwrite(output_dir +folderName +'/'+ predicationClasses[i][0], img)\n",
        "\n",
        "def statics():\n",
        "  '''\n",
        "  description : get the required statistics counts \n",
        "  '''\n",
        "    # getting count of each class \n",
        "  carList = os.listdir(output_dir +'/car')\n",
        "  carCount = len(carList)\n",
        "\n",
        "  busList = os.listdir(output_dir +'/bus')\n",
        "  busCount = len(busList)\n",
        "\n",
        "  truckList = os.listdir(output_dir +'/truck')\n",
        "  truckCount = len(truckList)\n",
        "  print(\"Total number of each Class : Car = {} , Bus = {} and Truck = {}\".format(carCount ,busCount , truckCount ))"
      ]
    },
    {
      "cell_type": "code",
      "execution_count": 12,
      "metadata": {
        "id": "ZP81C2GBiP8n"
      },
      "outputs": [],
      "source": [
        "images , car_types = labelingData()\n",
        "car_types_encoded_onehot = labelEncoding(car_types)\n",
        "# shuffling of data in order to be more really \n",
        "images, car_types, car_types_encoded_onehot = shuffle(images, car_types, car_types_encoded_onehot)\n"
      ]
    },
    {
      "cell_type": "code",
      "execution_count": 13,
      "metadata": {
        "colab": {
          "base_uri": "https://localhost:8080/"
        },
        "id": "THiywo8vBrX6",
        "outputId": "bc485ac6-b763-44eb-b9ac-9eb9fa9b7afc"
      },
      "outputs": [
        {
          "name": "stdout",
          "output_type": "stream",
          "text": [
            "Model: \"sequential\"\n",
            "_________________________________________________________________\n",
            " Layer (type)                Output Shape              Param #   \n",
            "=================================================================\n",
            " conv2d (Conv2D)             (None, 224, 224, 32)      896       \n",
            "                                                                 \n",
            " batch_normalization (BatchN  (None, 224, 224, 32)     128       \n",
            " ormalization)                                                   \n",
            "                                                                 \n",
            " average_pooling2d (AverageP  (None, 112, 112, 32)     0         \n",
            " ooling2D)                                                       \n",
            "                                                                 \n",
            " conv2d_1 (Conv2D)           (None, 112, 112, 32)      9248      \n",
            "                                                                 \n",
            " max_pooling2d (MaxPooling2D  (None, 56, 56, 32)       0         \n",
            " )                                                               \n",
            "                                                                 \n",
            " conv2d_2 (Conv2D)           (None, 56, 56, 32)        9248      \n",
            "                                                                 \n",
            " max_pooling2d_1 (MaxPooling  (None, 28, 28, 32)       0         \n",
            " 2D)                                                             \n",
            "                                                                 \n",
            " conv2d_3 (Conv2D)           (None, 28, 28, 32)        9248      \n",
            "                                                                 \n",
            " max_pooling2d_2 (MaxPooling  (None, 14, 14, 32)       0         \n",
            " 2D)                                                             \n",
            "                                                                 \n",
            " flatten (Flatten)           (None, 6272)              0         \n",
            "                                                                 \n",
            " dense (Dense)               (None, 128)               802944    \n",
            "                                                                 \n",
            " dense_1 (Dense)             (None, 3)                 387       \n",
            "                                                                 \n",
            "=================================================================\n",
            "Total params: 832,099\n",
            "Trainable params: 832,035\n",
            "Non-trainable params: 64\n",
            "_________________________________________________________________\n"
          ]
        }
      ],
      "source": [
        "model = modelCreation()"
      ]
    },
    {
      "cell_type": "code",
      "execution_count": 14,
      "metadata": {
        "colab": {
          "base_uri": "https://localhost:8080/",
          "height": 1000
        },
        "id": "gMaG49CY-X_a",
        "outputId": "acedd4ec-1a1f-4d19-89fd-8fa5e9ea593f"
      },
      "outputs": [
        {
          "name": "stdout",
          "output_type": "stream",
          "text": [
            "Epoch 1/100\n",
            "80/80 [==============================] - 32s 272ms/step - loss: 1.3772 - accuracy: 0.4662 - val_loss: 1.2768 - val_accuracy: 0.5049\n",
            "Epoch 2/100\n",
            "80/80 [==============================] - 20s 256ms/step - loss: 1.2010 - accuracy: 0.5188 - val_loss: 1.1832 - val_accuracy: 0.5108\n",
            "Epoch 3/100\n",
            "80/80 [==============================] - 20s 252ms/step - loss: 1.1362 - accuracy: 0.5218 - val_loss: 1.1515 - val_accuracy: 0.5424\n",
            "Epoch 4/100\n",
            "80/80 [==============================] - 20s 253ms/step - loss: 1.0431 - accuracy: 0.5593 - val_loss: 1.0062 - val_accuracy: 0.6055\n",
            "Epoch 5/100\n",
            "80/80 [==============================] - 20s 255ms/step - loss: 0.9870 - accuracy: 0.5928 - val_loss: 0.9365 - val_accuracy: 0.6213\n",
            "Epoch 6/100\n",
            "80/80 [==============================] - 20s 254ms/step - loss: 0.9538 - accuracy: 0.5978 - val_loss: 0.8959 - val_accuracy: 0.6746\n",
            "Epoch 7/100\n",
            "80/80 [==============================] - 20s 255ms/step - loss: 0.8802 - accuracy: 0.6478 - val_loss: 0.7535 - val_accuracy: 0.7199\n",
            "Epoch 8/100\n",
            "80/80 [==============================] - 21s 256ms/step - loss: 0.8759 - accuracy: 0.6428 - val_loss: 0.8558 - val_accuracy: 0.6963\n",
            "Epoch 9/100\n",
            "80/80 [==============================] - 20s 254ms/step - loss: 0.8128 - accuracy: 0.6778 - val_loss: 0.7215 - val_accuracy: 0.7179\n",
            "Epoch 10/100\n",
            "80/80 [==============================] - 20s 255ms/step - loss: 0.7839 - accuracy: 0.6898 - val_loss: 0.6768 - val_accuracy: 0.7594\n",
            "Epoch 11/100\n",
            "80/80 [==============================] - 20s 254ms/step - loss: 0.7612 - accuracy: 0.6983 - val_loss: 0.7173 - val_accuracy: 0.7199\n",
            "Epoch 12/100\n",
            "80/80 [==============================] - 20s 255ms/step - loss: 0.7173 - accuracy: 0.7109 - val_loss: 0.7004 - val_accuracy: 0.7278\n",
            "Epoch 13/100\n",
            "80/80 [==============================] - 20s 252ms/step - loss: 0.7015 - accuracy: 0.7234 - val_loss: 0.6968 - val_accuracy: 0.7377\n",
            "Epoch 14/100\n",
            "80/80 [==============================] - 20s 252ms/step - loss: 0.7028 - accuracy: 0.7214 - val_loss: 0.6453 - val_accuracy: 0.7475\n",
            "Epoch 15/100\n",
            "80/80 [==============================] - 20s 253ms/step - loss: 0.6665 - accuracy: 0.7489 - val_loss: 0.6590 - val_accuracy: 0.7298\n",
            "Epoch 16/100\n",
            "80/80 [==============================] - 20s 255ms/step - loss: 0.6397 - accuracy: 0.7534 - val_loss: 0.7333 - val_accuracy: 0.6963\n",
            "Epoch 17/100\n",
            "80/80 [==============================] - 21s 257ms/step - loss: 0.6498 - accuracy: 0.7539 - val_loss: 0.6041 - val_accuracy: 0.7751\n",
            "Epoch 18/100\n",
            "80/80 [==============================] - 20s 256ms/step - loss: 0.6254 - accuracy: 0.7634 - val_loss: 0.5885 - val_accuracy: 0.7712\n",
            "Epoch 19/100\n",
            "80/80 [==============================] - 20s 255ms/step - loss: 0.6085 - accuracy: 0.7694 - val_loss: 0.6112 - val_accuracy: 0.7791\n",
            "Epoch 20/100\n",
            "80/80 [==============================] - 20s 253ms/step - loss: 0.5951 - accuracy: 0.7754 - val_loss: 0.5656 - val_accuracy: 0.7890\n",
            "Epoch 21/100\n",
            "80/80 [==============================] - 21s 256ms/step - loss: 0.6106 - accuracy: 0.7699 - val_loss: 0.6266 - val_accuracy: 0.7574\n",
            "Epoch 22/100\n",
            "80/80 [==============================] - 20s 254ms/step - loss: 0.5669 - accuracy: 0.7839 - val_loss: 0.5879 - val_accuracy: 0.7850\n",
            "Epoch 23/100\n",
            "80/80 [==============================] - 20s 256ms/step - loss: 0.5782 - accuracy: 0.7824 - val_loss: 0.5622 - val_accuracy: 0.7633\n",
            "Epoch 24/100\n",
            "80/80 [==============================] - 20s 255ms/step - loss: 0.5545 - accuracy: 0.7799 - val_loss: 0.5641 - val_accuracy: 0.7712\n",
            "Epoch 25/100\n",
            "80/80 [==============================] - 20s 253ms/step - loss: 0.5296 - accuracy: 0.8024 - val_loss: 0.6646 - val_accuracy: 0.7554\n",
            "Epoch 26/100\n",
            "80/80 [==============================] - 20s 255ms/step - loss: 0.5371 - accuracy: 0.7899 - val_loss: 0.5991 - val_accuracy: 0.7495\n",
            "Epoch 27/100\n",
            "80/80 [==============================] - 20s 254ms/step - loss: 0.5439 - accuracy: 0.7879 - val_loss: 0.5540 - val_accuracy: 0.7890\n",
            "Epoch 28/100\n",
            "80/80 [==============================] - 20s 252ms/step - loss: 0.5230 - accuracy: 0.8044 - val_loss: 0.5170 - val_accuracy: 0.8185\n",
            "Epoch 29/100\n",
            "80/80 [==============================] - 20s 252ms/step - loss: 0.5271 - accuracy: 0.7974 - val_loss: 0.5381 - val_accuracy: 0.8028\n",
            "Epoch 30/100\n",
            "80/80 [==============================] - 20s 254ms/step - loss: 0.4936 - accuracy: 0.8129 - val_loss: 0.5300 - val_accuracy: 0.8126\n",
            "Epoch 31/100\n",
            "80/80 [==============================] - 20s 251ms/step - loss: 0.4868 - accuracy: 0.8204 - val_loss: 0.6890 - val_accuracy: 0.7337\n",
            "Epoch 32/100\n",
            "80/80 [==============================] - 20s 252ms/step - loss: 0.5061 - accuracy: 0.8074 - val_loss: 0.5756 - val_accuracy: 0.7968\n",
            "Epoch 33/100\n",
            "80/80 [==============================] - 20s 253ms/step - loss: 0.4707 - accuracy: 0.8229 - val_loss: 0.5261 - val_accuracy: 0.8047\n",
            "Epoch 34/100\n",
            "80/80 [==============================] - 20s 254ms/step - loss: 0.4751 - accuracy: 0.8319 - val_loss: 0.5916 - val_accuracy: 0.7712\n",
            "Epoch 35/100\n",
            "80/80 [==============================] - 20s 251ms/step - loss: 0.4794 - accuracy: 0.8274 - val_loss: 0.4817 - val_accuracy: 0.8264\n",
            "Epoch 36/100\n",
            "80/80 [==============================] - 20s 253ms/step - loss: 0.4699 - accuracy: 0.8295 - val_loss: 0.5135 - val_accuracy: 0.8087\n",
            "Epoch 37/100\n",
            "80/80 [==============================] - 20s 253ms/step - loss: 0.4361 - accuracy: 0.8404 - val_loss: 0.5715 - val_accuracy: 0.7890\n",
            "Epoch 38/100\n",
            "80/80 [==============================] - 20s 252ms/step - loss: 0.4591 - accuracy: 0.8294 - val_loss: 0.5574 - val_accuracy: 0.7870\n",
            "Epoch 39/100\n",
            "80/80 [==============================] - 20s 252ms/step - loss: 0.4351 - accuracy: 0.8544 - val_loss: 0.5370 - val_accuracy: 0.8047\n",
            "Epoch 40/100\n",
            "80/80 [==============================] - 20s 252ms/step - loss: 0.4512 - accuracy: 0.8349 - val_loss: 0.5131 - val_accuracy: 0.8028\n",
            "Epoch 41/100\n",
            "80/80 [==============================] - 20s 251ms/step - loss: 0.4379 - accuracy: 0.8359 - val_loss: 0.5720 - val_accuracy: 0.7909\n",
            "Epoch 42/100\n",
            "80/80 [==============================] - 20s 252ms/step - loss: 0.4272 - accuracy: 0.8459 - val_loss: 0.5453 - val_accuracy: 0.8028\n",
            "Epoch 43/100\n",
            "80/80 [==============================] - 20s 251ms/step - loss: 0.4221 - accuracy: 0.8534 - val_loss: 0.5292 - val_accuracy: 0.8067\n",
            "Epoch 44/100\n",
            "80/80 [==============================] - 20s 252ms/step - loss: 0.4059 - accuracy: 0.8589 - val_loss: 0.5652 - val_accuracy: 0.8008\n",
            "Epoch 45/100\n",
            "80/80 [==============================] - 20s 253ms/step - loss: 0.4310 - accuracy: 0.8489 - val_loss: 0.5608 - val_accuracy: 0.7949\n",
            "Epoch 46/100\n",
            "80/80 [==============================] - 20s 252ms/step - loss: 0.4433 - accuracy: 0.8419 - val_loss: 0.5213 - val_accuracy: 0.8126\n",
            "Epoch 47/100\n",
            "80/80 [==============================] - 20s 252ms/step - loss: 0.4044 - accuracy: 0.8539 - val_loss: 0.4784 - val_accuracy: 0.8343\n",
            "Epoch 48/100\n",
            "80/80 [==============================] - 20s 252ms/step - loss: 0.4277 - accuracy: 0.8419 - val_loss: 0.4821 - val_accuracy: 0.8284\n",
            "Epoch 49/100\n",
            "80/80 [==============================] - 20s 253ms/step - loss: 0.3746 - accuracy: 0.8659 - val_loss: 0.4772 - val_accuracy: 0.8363\n",
            "Epoch 50/100\n",
            "80/80 [==============================] - 20s 252ms/step - loss: 0.4000 - accuracy: 0.8519 - val_loss: 0.5134 - val_accuracy: 0.8363\n",
            "Epoch 51/100\n",
            "80/80 [==============================] - 20s 251ms/step - loss: 0.3837 - accuracy: 0.8649 - val_loss: 0.4614 - val_accuracy: 0.8521\n",
            "Epoch 52/100\n",
            "80/80 [==============================] - 20s 252ms/step - loss: 0.3809 - accuracy: 0.8639 - val_loss: 0.4964 - val_accuracy: 0.8304\n",
            "Epoch 53/100\n",
            "80/80 [==============================] - 20s 253ms/step - loss: 0.3877 - accuracy: 0.8569 - val_loss: 0.5582 - val_accuracy: 0.8264\n",
            "Epoch 54/100\n",
            "80/80 [==============================] - 20s 251ms/step - loss: 0.3951 - accuracy: 0.8604 - val_loss: 0.5164 - val_accuracy: 0.8087\n",
            "Epoch 55/100\n",
            "80/80 [==============================] - 20s 252ms/step - loss: 0.3743 - accuracy: 0.8629 - val_loss: 0.4962 - val_accuracy: 0.8481\n",
            "Epoch 56/100\n",
            "80/80 [==============================] - 20s 250ms/step - loss: 0.3528 - accuracy: 0.8809 - val_loss: 0.5233 - val_accuracy: 0.8225\n",
            "Epoch 57/100\n",
            "80/80 [==============================] - 20s 252ms/step - loss: 0.3733 - accuracy: 0.8634 - val_loss: 0.4762 - val_accuracy: 0.8521\n",
            "Epoch 58/100\n",
            "80/80 [==============================] - 20s 253ms/step - loss: 0.3742 - accuracy: 0.8739 - val_loss: 0.5894 - val_accuracy: 0.8323\n",
            "Epoch 59/100\n",
            "80/80 [==============================] - 20s 251ms/step - loss: 0.3661 - accuracy: 0.8624 - val_loss: 0.7160 - val_accuracy: 0.7968\n",
            "Epoch 60/100\n",
            "80/80 [==============================] - 20s 251ms/step - loss: 0.3538 - accuracy: 0.8754 - val_loss: 0.5124 - val_accuracy: 0.8264\n",
            "Epoch 61/100\n",
            "80/80 [==============================] - 20s 252ms/step - loss: 0.3372 - accuracy: 0.8889 - val_loss: 0.5533 - val_accuracy: 0.8383\n",
            "Epoch 62/100\n",
            "80/80 [==============================] - 20s 253ms/step - loss: 0.3250 - accuracy: 0.8874 - val_loss: 0.5017 - val_accuracy: 0.8501\n",
            "Epoch 63/100\n",
            "80/80 [==============================] - 20s 252ms/step - loss: 0.3694 - accuracy: 0.8739 - val_loss: 0.5026 - val_accuracy: 0.8245\n",
            "Epoch 64/100\n",
            "80/80 [==============================] - 20s 252ms/step - loss: 0.3618 - accuracy: 0.8749 - val_loss: 0.6309 - val_accuracy: 0.8028\n",
            "Epoch 65/100\n",
            "80/80 [==============================] - 20s 252ms/step - loss: 0.3623 - accuracy: 0.8729 - val_loss: 0.5364 - val_accuracy: 0.8442\n",
            "Epoch 66/100\n",
            "80/80 [==============================] - 20s 252ms/step - loss: 0.3073 - accuracy: 0.8954 - val_loss: 0.5638 - val_accuracy: 0.8245\n",
            "Epoch 67/100\n",
            "80/80 [==============================] - 20s 251ms/step - loss: 0.3211 - accuracy: 0.8864 - val_loss: 0.5060 - val_accuracy: 0.8501\n",
            "Epoch 68/100\n",
            "80/80 [==============================] - 20s 252ms/step - loss: 0.3270 - accuracy: 0.8939 - val_loss: 0.5444 - val_accuracy: 0.8383\n",
            "Epoch 69/100\n",
            "80/80 [==============================] - 20s 252ms/step - loss: 0.3306 - accuracy: 0.8854 - val_loss: 0.5721 - val_accuracy: 0.8264\n",
            "Epoch 70/100\n",
            "80/80 [==============================] - 20s 252ms/step - loss: 0.3437 - accuracy: 0.8794 - val_loss: 0.6333 - val_accuracy: 0.8225\n",
            "Epoch 71/100\n",
            "80/80 [==============================] - 20s 252ms/step - loss: 0.3175 - accuracy: 0.8894 - val_loss: 0.5633 - val_accuracy: 0.8245\n",
            "Epoch 72/100\n",
            "80/80 [==============================] - 20s 252ms/step - loss: 0.3081 - accuracy: 0.8909 - val_loss: 0.7714 - val_accuracy: 0.7909\n",
            "Epoch 73/100\n",
            "80/80 [==============================] - 20s 252ms/step - loss: 0.3094 - accuracy: 0.8944 - val_loss: 0.5302 - val_accuracy: 0.8166\n",
            "Epoch 74/100\n",
            "80/80 [==============================] - 20s 252ms/step - loss: 0.3178 - accuracy: 0.8949 - val_loss: 0.6241 - val_accuracy: 0.8284\n",
            "Epoch 75/100\n",
            "80/80 [==============================] - 20s 250ms/step - loss: 0.3171 - accuracy: 0.8954 - val_loss: 0.5626 - val_accuracy: 0.8245\n",
            "Epoch 76/100\n",
            "80/80 [==============================] - 20s 251ms/step - loss: 0.3158 - accuracy: 0.8869 - val_loss: 0.6361 - val_accuracy: 0.8107\n",
            "Epoch 77/100\n",
            "80/80 [==============================] - 20s 252ms/step - loss: 0.3088 - accuracy: 0.8979 - val_loss: 0.5239 - val_accuracy: 0.8284\n",
            "Epoch 78/100\n",
            "80/80 [==============================] - 20s 251ms/step - loss: 0.3155 - accuracy: 0.9005 - val_loss: 0.5096 - val_accuracy: 0.8442\n",
            "Epoch 79/100\n",
            "80/80 [==============================] - 20s 254ms/step - loss: 0.2894 - accuracy: 0.9075 - val_loss: 0.6543 - val_accuracy: 0.8225\n",
            "Epoch 80/100\n",
            "80/80 [==============================] - 20s 252ms/step - loss: 0.3082 - accuracy: 0.8969 - val_loss: 0.5359 - val_accuracy: 0.8402\n",
            "Epoch 81/100\n",
            "80/80 [==============================] - 20s 252ms/step - loss: 0.2957 - accuracy: 0.8999 - val_loss: 0.5097 - val_accuracy: 0.8323\n",
            "Epoch 82/100\n",
            "80/80 [==============================] - 20s 251ms/step - loss: 0.2784 - accuracy: 0.9015 - val_loss: 0.5300 - val_accuracy: 0.8383\n",
            "Epoch 83/100\n",
            "80/80 [==============================] - 20s 252ms/step - loss: 0.3265 - accuracy: 0.8919 - val_loss: 0.5341 - val_accuracy: 0.8225\n",
            "Epoch 84/100\n",
            "80/80 [==============================] - 20s 251ms/step - loss: 0.3101 - accuracy: 0.9070 - val_loss: 0.6037 - val_accuracy: 0.8107\n",
            "Epoch 85/100\n",
            "80/80 [==============================] - 20s 251ms/step - loss: 0.2991 - accuracy: 0.9055 - val_loss: 0.5679 - val_accuracy: 0.8107\n",
            "Epoch 86/100\n",
            "80/80 [==============================] - 20s 251ms/step - loss: 0.2766 - accuracy: 0.9080 - val_loss: 0.6426 - val_accuracy: 0.8067\n",
            "Epoch 87/100\n",
            "80/80 [==============================] - 20s 251ms/step - loss: 0.2944 - accuracy: 0.8959 - val_loss: 0.7135 - val_accuracy: 0.8028\n",
            "Epoch 88/100\n",
            "80/80 [==============================] - 20s 251ms/step - loss: 0.2861 - accuracy: 0.9125 - val_loss: 0.5573 - val_accuracy: 0.8402\n",
            "Epoch 89/100\n",
            "80/80 [==============================] - 20s 253ms/step - loss: 0.2603 - accuracy: 0.9215 - val_loss: 0.5171 - val_accuracy: 0.8383\n",
            "Epoch 90/100\n",
            "80/80 [==============================] - 20s 252ms/step - loss: 0.2630 - accuracy: 0.9125 - val_loss: 0.7695 - val_accuracy: 0.8008\n",
            "Epoch 91/100\n",
            "80/80 [==============================] - 20s 252ms/step - loss: 0.2978 - accuracy: 0.8999 - val_loss: 0.5450 - val_accuracy: 0.8323\n",
            "Epoch 92/100\n",
            "80/80 [==============================] - 20s 253ms/step - loss: 0.2814 - accuracy: 0.9145 - val_loss: 0.6001 - val_accuracy: 0.8501\n",
            "Epoch 93/100\n",
            "80/80 [==============================] - 20s 253ms/step - loss: 0.2870 - accuracy: 0.9020 - val_loss: 0.5924 - val_accuracy: 0.8363\n",
            "Epoch 94/100\n",
            "80/80 [==============================] - 20s 253ms/step - loss: 0.2657 - accuracy: 0.9140 - val_loss: 0.5811 - val_accuracy: 0.8323\n",
            "Epoch 95/100\n",
            "80/80 [==============================] - 20s 252ms/step - loss: 0.2980 - accuracy: 0.8999 - val_loss: 0.5936 - val_accuracy: 0.8284\n",
            "Epoch 96/100\n",
            "80/80 [==============================] - 20s 253ms/step - loss: 0.2731 - accuracy: 0.9125 - val_loss: 0.5673 - val_accuracy: 0.8521\n",
            "Epoch 97/100\n",
            "80/80 [==============================] - 20s 252ms/step - loss: 0.2635 - accuracy: 0.9100 - val_loss: 0.6587 - val_accuracy: 0.8323\n",
            "Epoch 98/100\n",
            "80/80 [==============================] - 20s 250ms/step - loss: 0.2791 - accuracy: 0.9095 - val_loss: 0.5333 - val_accuracy: 0.8521\n",
            "Epoch 99/100\n",
            "80/80 [==============================] - 20s 251ms/step - loss: 0.2669 - accuracy: 0.9060 - val_loss: 0.5092 - val_accuracy: 0.8462\n",
            "Epoch 100/100\n",
            "80/80 [==============================] - 20s 251ms/step - loss: 0.2365 - accuracy: 0.9200 - val_loss: 0.6068 - val_accuracy: 0.8442\n"
          ]
        },
        {
          "data": {
            "image/png": "[encoded data removed]",
            "text/plain": [
              "<Figure size 432x288 with 1 Axes>"
            ]
          },
          "metadata": {
            "needs_background": "light"
          },
          "output_type": "display_data"
        },
        {
          "data": {
            "image/png": "[encoded data removed]",
            "text/plain": [
              "<Figure size 432x288 with 1 Axes>"
            ]
          },
          "metadata": {
            "needs_background": "light"
          },
          "output_type": "display_data"
        },
        {
          "ename": "FileNotFoundError",
          "evalue": "ignored",
          "output_type": "error",
          "traceback": [
            "\u001b[0;31m---------------------------------------------------------------------------\u001b[0m",
            "\u001b[0;31mFileNotFoundError\u001b[0m                         Traceback (most recent call last)",
            "\u001b[0;32m<ipython-input-14-2eb72b0fa63a>\u001b[0m in \u001b[0;36m<module>\u001b[0;34m()\u001b[0m\n\u001b[1;32m      3\u001b[0m \u001b[0maccuracyPlot\u001b[0m\u001b[0;34m(\u001b[0m\u001b[0mfitted_model\u001b[0m\u001b[0;34m)\u001b[0m\u001b[0;34m\u001b[0m\u001b[0;34m\u001b[0m\u001b[0m\n\u001b[1;32m      4\u001b[0m \u001b[0merrorPlot\u001b[0m\u001b[0;34m(\u001b[0m\u001b[0mfitted_model\u001b[0m\u001b[0;34m)\u001b[0m\u001b[0;34m\u001b[0m\u001b[0;34m\u001b[0m\u001b[0m\n\u001b[0;32m----> 5\u001b[0;31m \u001b[0mpredicationClasses\u001b[0m \u001b[0;34m=\u001b[0m \u001b[0mpredict\u001b[0m\u001b[0;34m(\u001b[0m\u001b[0mmodel\u001b[0m\u001b[0;34m=\u001b[0m\u001b[0mmodel\u001b[0m\u001b[0;34m)\u001b[0m\u001b[0;34m\u001b[0m\u001b[0;34m\u001b[0m\u001b[0m\n\u001b[0m\u001b[1;32m      6\u001b[0m \u001b[0mfoldersCreation\u001b[0m\u001b[0;34m(\u001b[0m\u001b[0;34m)\u001b[0m\u001b[0;34m\u001b[0m\u001b[0;34m\u001b[0m\u001b[0m\n\u001b[1;32m      7\u001b[0m \u001b[0msavingFrames\u001b[0m\u001b[0;34m(\u001b[0m\u001b[0mpredicationClasses\u001b[0m\u001b[0;34m)\u001b[0m\u001b[0;34m\u001b[0m\u001b[0;34m\u001b[0m\u001b[0m\n",
            "\u001b[0;32m<ipython-input-10-17dca9bccc81>\u001b[0m in \u001b[0;36mpredict\u001b[0;34m(model)\u001b[0m\n\u001b[1;32m      7\u001b[0m   \u001b[0mclasses\u001b[0m \u001b[0;34m=\u001b[0m \u001b[0;34m[\u001b[0m\u001b[0;34m]\u001b[0m\u001b[0;34m\u001b[0m\u001b[0;34m\u001b[0m\u001b[0m\n\u001b[1;32m      8\u001b[0m   \u001b[0mimagesName\u001b[0m \u001b[0;34m=\u001b[0m \u001b[0;34m[\u001b[0m\u001b[0;34m]\u001b[0m\u001b[0;34m\u001b[0m\u001b[0;34m\u001b[0m\u001b[0m\n\u001b[0;32m----> 9\u001b[0;31m   \u001b[0;32mfor\u001b[0m \u001b[0mf\u001b[0m \u001b[0;32min\u001b[0m \u001b[0mos\u001b[0m\u001b[0;34m.\u001b[0m\u001b[0mlistdir\u001b[0m\u001b[0;34m(\u001b[0m\u001b[0mtestImagesPath\u001b[0m\u001b[0;34m)\u001b[0m\u001b[0;34m:\u001b[0m\u001b[0;34m\u001b[0m\u001b[0;34m\u001b[0m\u001b[0m\n\u001b[0m\u001b[1;32m     10\u001b[0m       \u001b[0mimagePath\u001b[0m \u001b[0;34m=\u001b[0m \u001b[0mos\u001b[0m\u001b[0;34m.\u001b[0m\u001b[0mpath\u001b[0m\u001b[0;34m.\u001b[0m\u001b[0mjoin\u001b[0m\u001b[0;34m(\u001b[0m\u001b[0mtestImagesPath\u001b[0m\u001b[0;34m,\u001b[0m \u001b[0mf\u001b[0m\u001b[0;34m)\u001b[0m\u001b[0;34m\u001b[0m\u001b[0;34m\u001b[0m\u001b[0m\n\u001b[1;32m     11\u001b[0m       \u001b[0mimg\u001b[0m \u001b[0;34m=\u001b[0m \u001b[0mcv2\u001b[0m\u001b[0;34m.\u001b[0m\u001b[0mimread\u001b[0m\u001b[0;34m(\u001b[0m\u001b[0mimagePath\u001b[0m\u001b[0;34m)\u001b[0m\u001b[0;34m\u001b[0m\u001b[0;34m\u001b[0m\u001b[0m\n",
            "\u001b[0;31mFileNotFoundError\u001b[0m: [Errno 2] No such file or directory: '/content/outputImages/testImages/'"
          ]
        }
      ],
      "source": [
        "x_train, x_val, y_train, y_val , datagen = dataSplit(images ,car_types_encoded_onehot)\n",
        "model , fitted_model = train(model , datagen)\n",
        "accuracyPlot(fitted_model)\n",
        "errorPlot(fitted_model)\n"
      ]
    },
    {
      "cell_type": "code",
      "execution_count": 27,
      "metadata": {
        "id": "4iCYojs5tGPp"
      },
      "outputs": [],
      "source": []
    },
    {
      "cell_type": "code",
      "execution_count": 27,
      "metadata": {
        "colab": {
          "base_uri": "https://localhost:8080/"
        },
        "id": "OK8ndyO3KSkM",
        "outputId": "9cf71f44-b573-4a63-bb01-1a9927b7e177"
      },
      "outputs": [
        {
          "name": "stdout",
          "output_type": "stream",
          "text": [
            "Total number of each Class : Car = 9 , Bus = 21 and Truck = 0\n"
          ]
        }
      ],
      "source": [
        "predicationClasses = predict(model=model)\n",
        "foldersCreation()\n",
        "savingFrames(predicationClasses)\n",
        "statics()"
      ]
    },
    {
      "cell_type": "code",
      "execution_count": 28,
      "metadata": {
        "id": "Jx2z2pWe9UTu"
      },
      "outputs": [],
      "source": []
    },
    {
      "cell_type": "code",
      "execution_count": null,
      "metadata": {
        "_uuid": "3c8433f6bbaf9a3815dff1df7feb93690af2eeb3",
        "id": "Ojh4ysJwdKsC",
        "trusted": true
      },
      "outputs": [],
      "source": []
    },
    {
      "cell_type": "code",
      "execution_count": null,
      "metadata": {
        "_uuid": "608f6f87bc5c09c7a92a58ee2a90b08a2bf65c5c",
        "id": "Qywf-tu_dKsD",
        "trusted": true
      },
      "outputs": [],
      "source": []
    },
    {
      "cell_type": "code",
      "execution_count": null,
      "metadata": {
        "_uuid": "1a4e8f5336f182084485bdfc60570f2926e055db",
        "id": "NrQ63UOkdKsD",
        "trusted": true
      },
      "outputs": [],
      "source": []
    },
    {
      "cell_type": "code",
      "execution_count": null,
      "metadata": {
        "_uuid": "6736e40e21725ac6d2c14e2b6d6cb858f7edaecf",
        "id": "TG9Ir3v5dKsF",
        "trusted": true
      },
      "outputs": [],
      "source": []
    },
    {
      "cell_type": "code",
      "execution_count": null,
      "metadata": {
        "_uuid": "1805661de454a120b9c5c65fc3543e2de996e3e0",
        "id": "Cvkmpl8pdKsF",
        "trusted": true
      },
      "outputs": [],
      "source": []
    }
  ],
  "metadata": {
    "accelerator": "GPU",
    "colab": {
      "collapsed_sections": [],
      "name": "vechileClassification.ipynb",
      "provenance": []
    },
    "kernelspec": {
      "display_name": "Python 3",
      "language": "python",
      "name": "python3"
    },
    "language_info": {
      "codemirror_mode": {
        "name": "ipython",
        "version": 3
      },
      "file_extension": ".py",
      "mimetype": "text/x-python",
      "name": "python",
      "nbconvert_exporter": "python",
      "pygments_lexer": "ipython3",
      "version": "3.6.6"
    }
  },
  "nbformat": 4,
  "nbformat_minor": 0
}
